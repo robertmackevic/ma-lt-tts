{
 "cells": [
  {
   "metadata": {},
   "cell_type": "code",
   "source": [
    "from pathlib import Path\n",
    "\n",
    "import IPython.display as ipd\n",
    "import torch\n",
    "\n",
    "from src.model import commons\n",
    "from src.model.synthesizer import SynthesizerTrn\n",
    "from src.params import Params\n",
    "from src.text.convert import text_to_sequence\n",
    "from src.utils.checkpoint import load_checkpoint"
   ],
   "outputs": [],
   "execution_count": null
  },
  {
   "metadata": {},
   "cell_type": "code",
   "source": [
    "def get_text(text: str, text_cleaners: list[str], language: str, phonemized: bool, stressed: bool):\n",
    "    text_norm = text_to_sequence(text, text_cleaners, language, phonemized, stressed)\n",
    "    text_norm = commons.intersperse(text_norm, 0)\n",
    "    text_norm = torch.LongTensor(text_norm)\n",
    "\n",
    "    return text_norm"
   ],
   "outputs": [],
   "execution_count": null
  },
  {
   "cell_type": "code",
   "metadata": {},
   "source": [
    "params = Params.model_validate_json(Path(\"../files/configs/lt_studio_stressed_finetune.json\").read_text(encoding=\"utf-8\"))\n",
    "\n",
    "net_g = SynthesizerTrn.from_params(params)\n",
    "_ = net_g.eval()"
   ],
   "outputs": [],
   "execution_count": null
  },
  {
   "cell_type": "code",
   "metadata": {},
   "source": "load_checkpoint(Path('../logs/studio_stressed_finetune/G_45000.pth'), net_g, None)",
   "outputs": [],
   "execution_count": null
  },
  {
   "cell_type": "code",
   "metadata": {},
   "source": [
    "# text = 'Penktadienio naktį daug kur trumpai palis'\n",
    "# text = 'Gramatiškai veiksmažodis derinamas su veiksniu'\n",
    "# text = 'mano vardas Gabija'\n",
    "# text = 'Ar nori eiti su manimi drauge'\n",
    "# text = 'Jis pastato savo mašina ir eina iki pastato galo.'\n",
    "text = 'Jìs pastãto sàvo mašìna ir̃ eĩna ikì pãstato gãlo.'\n",
    "\n",
    "stn_tst = get_text(\n",
    "    text,\n",
    "    params.data.text_cleaners,\n",
    "    params.data.language,\n",
    "    params.data.phonemized,\n",
    "    params.data.stressed\n",
    ")\n",
    "\n",
    "with torch.inference_mode():\n",
    "    x_tst = stn_tst.unsqueeze(0)\n",
    "    x_tst_lengths = torch.LongTensor([stn_tst.size(0)])\n",
    "    audio = net_g.infer(x_tst, x_tst_lengths, noise_scale=0.667, noise_scale_w=0.5, length_scale=1.0)[0][0, 0]\n",
    "\n",
    "ipd.display(ipd.Audio(audio.data.float().numpy(), rate=params.data.sampling_rate, normalize=False))"
   ],
   "outputs": [],
   "execution_count": null
  }
 ],
 "metadata": {
  "kernelspec": {
   "display_name": "course-work",
   "language": "python",
   "name": "python3"
  },
  "language_info": {
   "codemirror_mode": {
    "name": "ipython",
    "version": 3
   },
   "file_extension": ".py",
   "mimetype": "text/x-python",
   "name": "python",
   "nbconvert_exporter": "python",
   "pygments_lexer": "ipython3",
   "version": "3.10.6"
  },
  "orig_nbformat": 4
 },
 "nbformat": 4,
 "nbformat_minor": 2
}
